{
  "nbformat": 4,
  "nbformat_minor": 5,
  "metadata": {
    "kernelspec": {
      "display_name": "Python 3",
      "language": "python",
      "name": "python3"
    },
    "language_info": {
      "codemirror_mode": {
        "name": "ipython",
        "version": 3
      },
      "file_extension": ".py",
      "mimetype": "text/x-python",
      "name": "python",
      "nbconvert_exporter": "python",
      "pygments_lexer": "ipython3",
      "version": "3.8.8"
    },
    "colab": {
      "name": "Best Ads Predictor.ipynb",
      "provenance": [],
      "toc_visible": true
    },
    "accelerator": "GPU"
  },
  "cells": [
    {
      "cell_type": "markdown",
      "metadata": {
        "id": "13ddd1d5"
      },
      "source": [
        "Here, we will be using the concept of Reinforcement Learning. We know that Supervised Learning in which we have the labelled dataset and unsupervised learning which has the unlabelled dataset. Reinforcement Learning is very similar to the way we teach children or pets by giving a positive remark whenever they do something good or obey us properly and we give a negative remark or scold them whenever they do something good.\n",
        "for this, we have two methods:\n",
        "1. Upper Confidence Bound\n",
        "2. Thompson Sampling\n",
        "\n",
        "We know about the problem of Multi-armed Bandit, in which we have some machines in which we put the money and all the machines have some algorithm running in them, and based on the amount of money which we put in them, we get some outcome, for example, a part of money or some chocolates, etc. in which case we win. In this, our goal is maximize the return. Each machine has its own distribution set. Now, initially we will go to each and every machine and we try it out and if we get a high-return, then we send more on that machine.\n",
        "The application of this problem is in the advertisement industry in which we have different ads and we want to which ad has more impact on the user. we can do this on a trial basis and if the user clicks on the ad, then it means that the person is getting impacted by the ad and that ad will give more significance of the product.\n",
        "Suppose we have D arms and, for example, arms are the ads that we display to the user, when they connect to a webpage. Now, each time a user connects to a web page, it makes a Round. At each Round 'n', we choose an ad to display to the user. For each Round n, the ad 'i' gives the reward ri(n)={0,1} (If the user clicks on the ad, then we give it a '1' else we give it a '0'). Our goal is to maximize the total reward."
      ],
      "id": "13ddd1d5"
    },
    {
      "cell_type": "markdown",
      "metadata": {
        "id": "3b2815e5"
      },
      "source": [
        "# Method 1 - Using Upper Confidence Bound"
      ],
      "id": "3b2815e5"
    },
    {
      "cell_type": "markdown",
      "metadata": {
        "id": "0b0ebdd6"
      },
      "source": [
        "In Upper Confidence Bound, we can have distribution for different machines and we will try to find the most optimum one out of those. We try to find the best one based on the gaps between the distributions. We do not want the graph to skewed in one direction because that would mean less response."
      ],
      "id": "0b0ebdd6"
    },
    {
      "cell_type": "markdown",
      "metadata": {
        "id": "f0ee95ce"
      },
      "source": [
        "**Alogrithm:**\n",
        "**Step 1:** At each round 'n', we consider two numbers for each ad 'i'. So, in this, we have:\n",
        "\n",
        "        Ni(n): Number of times the Ad 'i' was selected upto Round 'n'\n",
        "        Ri(n): Sum of Rewards of the Ad 'i' upto Round 'n'\n",
        "        \n",
        "**Step 2:** From the above computer numbers, we calculate the average reward of Ad 'i' upto the Round 'n'. So, the formula which we have is:\n",
        "<center>\n",
        "$\\bar{r}i(n) = Ri(n)/Ni(n)$\n",
        "</center>\n",
        "Further, we calculate the confidence interval as:\n",
        "\n",
        "[$\\bar{r}i(n) - deltai(n), \\bar{r}i(n) + deltai(n)$], where $deltai(n)$ can be calculated as:\n",
        "<center>\n",
        "$deltai(n) = \\sqrt{ \\frac{3}{2} * \\frac{log(n)}{Ni(n)} }$\n",
        "</center>\n",
        "\n",
        "**Step 3:** Select the Ad 'i' which has the maximum UCB which is given by r'i(n) + deltai(n)."
      ],
      "id": "f0ee95ce"
    },
    {
      "cell_type": "markdown",
      "metadata": {
        "id": "d2b5a393"
      },
      "source": [
        "## Importing Libraries"
      ],
      "id": "d2b5a393"
    },
    {
      "cell_type": "code",
      "metadata": {
        "id": "1523e4b8"
      },
      "source": [
        "import numpy as np\n",
        "import pandas as pd\n",
        "import matplotlib.pyplot as plt\n",
        "import math"
      ],
      "id": "1523e4b8",
      "execution_count": null,
      "outputs": []
    },
    {
      "cell_type": "markdown",
      "metadata": {
        "id": "ec528322"
      },
      "source": [
        "## Importing Dataset\n",
        "A Company had conducted a survey and collected data for different ads which were created and check for the response of the user. In the dataset, '1' represents that the user clicked on the ad whereas '0' represents that the user did not click on the ad. The best ad is not known initially but we try to find that with the help of the model because no one knows which ads might be loved by the users."
      ],
      "id": "ec528322"
    },
    {
      "cell_type": "code",
      "metadata": {
        "id": "e48e085d"
      },
      "source": [
        "dataset = pd.read_csv(\"C:\\\\Users\\\\aashi\\\\anaconda3\\\\Jupyter Notebooks\\\\1stop.ai\\\\Best Ads Predictor\\\\Ads_CTR_Optimisation.csv\")"
      ],
      "id": "e48e085d",
      "execution_count": null,
      "outputs": []
    },
    {
      "cell_type": "code",
      "metadata": {
        "id": "ad79738a",
        "outputId": "808fc4b6-1ebf-4fca-c8da-f295df72f70e"
      },
      "source": [
        "dataset"
      ],
      "id": "ad79738a",
      "execution_count": null,
      "outputs": [
        {
          "data": {
            "text/html": [
              "<div>\n",
              "<style scoped>\n",
              "    .dataframe tbody tr th:only-of-type {\n",
              "        vertical-align: middle;\n",
              "    }\n",
              "\n",
              "    .dataframe tbody tr th {\n",
              "        vertical-align: top;\n",
              "    }\n",
              "\n",
              "    .dataframe thead th {\n",
              "        text-align: right;\n",
              "    }\n",
              "</style>\n",
              "<table border=\"1\" class=\"dataframe\">\n",
              "  <thead>\n",
              "    <tr style=\"text-align: right;\">\n",
              "      <th></th>\n",
              "      <th>Ad 1</th>\n",
              "      <th>Ad 2</th>\n",
              "      <th>Ad 3</th>\n",
              "      <th>Ad 4</th>\n",
              "      <th>Ad 5</th>\n",
              "      <th>Ad 6</th>\n",
              "      <th>Ad 7</th>\n",
              "      <th>Ad 8</th>\n",
              "      <th>Ad 9</th>\n",
              "      <th>Ad 10</th>\n",
              "    </tr>\n",
              "  </thead>\n",
              "  <tbody>\n",
              "    <tr>\n",
              "      <th>0</th>\n",
              "      <td>1</td>\n",
              "      <td>0</td>\n",
              "      <td>0</td>\n",
              "      <td>0</td>\n",
              "      <td>1</td>\n",
              "      <td>0</td>\n",
              "      <td>0</td>\n",
              "      <td>0</td>\n",
              "      <td>1</td>\n",
              "      <td>0</td>\n",
              "    </tr>\n",
              "    <tr>\n",
              "      <th>1</th>\n",
              "      <td>0</td>\n",
              "      <td>0</td>\n",
              "      <td>0</td>\n",
              "      <td>0</td>\n",
              "      <td>0</td>\n",
              "      <td>0</td>\n",
              "      <td>0</td>\n",
              "      <td>0</td>\n",
              "      <td>1</td>\n",
              "      <td>0</td>\n",
              "    </tr>\n",
              "    <tr>\n",
              "      <th>2</th>\n",
              "      <td>0</td>\n",
              "      <td>0</td>\n",
              "      <td>0</td>\n",
              "      <td>0</td>\n",
              "      <td>0</td>\n",
              "      <td>0</td>\n",
              "      <td>0</td>\n",
              "      <td>0</td>\n",
              "      <td>0</td>\n",
              "      <td>0</td>\n",
              "    </tr>\n",
              "    <tr>\n",
              "      <th>3</th>\n",
              "      <td>0</td>\n",
              "      <td>1</td>\n",
              "      <td>0</td>\n",
              "      <td>0</td>\n",
              "      <td>0</td>\n",
              "      <td>0</td>\n",
              "      <td>0</td>\n",
              "      <td>1</td>\n",
              "      <td>0</td>\n",
              "      <td>0</td>\n",
              "    </tr>\n",
              "    <tr>\n",
              "      <th>4</th>\n",
              "      <td>0</td>\n",
              "      <td>0</td>\n",
              "      <td>0</td>\n",
              "      <td>0</td>\n",
              "      <td>0</td>\n",
              "      <td>0</td>\n",
              "      <td>0</td>\n",
              "      <td>0</td>\n",
              "      <td>0</td>\n",
              "      <td>0</td>\n",
              "    </tr>\n",
              "    <tr>\n",
              "      <th>...</th>\n",
              "      <td>...</td>\n",
              "      <td>...</td>\n",
              "      <td>...</td>\n",
              "      <td>...</td>\n",
              "      <td>...</td>\n",
              "      <td>...</td>\n",
              "      <td>...</td>\n",
              "      <td>...</td>\n",
              "      <td>...</td>\n",
              "      <td>...</td>\n",
              "    </tr>\n",
              "    <tr>\n",
              "      <th>9995</th>\n",
              "      <td>0</td>\n",
              "      <td>0</td>\n",
              "      <td>1</td>\n",
              "      <td>0</td>\n",
              "      <td>0</td>\n",
              "      <td>0</td>\n",
              "      <td>0</td>\n",
              "      <td>1</td>\n",
              "      <td>0</td>\n",
              "      <td>0</td>\n",
              "    </tr>\n",
              "    <tr>\n",
              "      <th>9996</th>\n",
              "      <td>0</td>\n",
              "      <td>0</td>\n",
              "      <td>0</td>\n",
              "      <td>0</td>\n",
              "      <td>0</td>\n",
              "      <td>0</td>\n",
              "      <td>0</td>\n",
              "      <td>0</td>\n",
              "      <td>0</td>\n",
              "      <td>0</td>\n",
              "    </tr>\n",
              "    <tr>\n",
              "      <th>9997</th>\n",
              "      <td>0</td>\n",
              "      <td>0</td>\n",
              "      <td>0</td>\n",
              "      <td>0</td>\n",
              "      <td>0</td>\n",
              "      <td>0</td>\n",
              "      <td>0</td>\n",
              "      <td>0</td>\n",
              "      <td>0</td>\n",
              "      <td>0</td>\n",
              "    </tr>\n",
              "    <tr>\n",
              "      <th>9998</th>\n",
              "      <td>1</td>\n",
              "      <td>0</td>\n",
              "      <td>0</td>\n",
              "      <td>0</td>\n",
              "      <td>0</td>\n",
              "      <td>0</td>\n",
              "      <td>0</td>\n",
              "      <td>1</td>\n",
              "      <td>0</td>\n",
              "      <td>0</td>\n",
              "    </tr>\n",
              "    <tr>\n",
              "      <th>9999</th>\n",
              "      <td>0</td>\n",
              "      <td>1</td>\n",
              "      <td>0</td>\n",
              "      <td>0</td>\n",
              "      <td>0</td>\n",
              "      <td>0</td>\n",
              "      <td>0</td>\n",
              "      <td>0</td>\n",
              "      <td>0</td>\n",
              "      <td>0</td>\n",
              "    </tr>\n",
              "  </tbody>\n",
              "</table>\n",
              "<p>10000 rows × 10 columns</p>\n",
              "</div>"
            ],
            "text/plain": [
              "      Ad 1  Ad 2  Ad 3  Ad 4  Ad 5  Ad 6  Ad 7  Ad 8  Ad 9  Ad 10\n",
              "0        1     0     0     0     1     0     0     0     1      0\n",
              "1        0     0     0     0     0     0     0     0     1      0\n",
              "2        0     0     0     0     0     0     0     0     0      0\n",
              "3        0     1     0     0     0     0     0     1     0      0\n",
              "4        0     0     0     0     0     0     0     0     0      0\n",
              "...    ...   ...   ...   ...   ...   ...   ...   ...   ...    ...\n",
              "9995     0     0     1     0     0     0     0     1     0      0\n",
              "9996     0     0     0     0     0     0     0     0     0      0\n",
              "9997     0     0     0     0     0     0     0     0     0      0\n",
              "9998     1     0     0     0     0     0     0     1     0      0\n",
              "9999     0     1     0     0     0     0     0     0     0      0\n",
              "\n",
              "[10000 rows x 10 columns]"
            ]
          },
          "execution_count": 4,
          "metadata": {},
          "output_type": "execute_result"
        }
      ]
    },
    {
      "cell_type": "code",
      "metadata": {
        "id": "ea708d06",
        "outputId": "f4eb115f-ae04-4abd-e342-8f563a5ab281"
      },
      "source": [
        "dataset.head()"
      ],
      "id": "ea708d06",
      "execution_count": null,
      "outputs": [
        {
          "data": {
            "text/html": [
              "<div>\n",
              "<style scoped>\n",
              "    .dataframe tbody tr th:only-of-type {\n",
              "        vertical-align: middle;\n",
              "    }\n",
              "\n",
              "    .dataframe tbody tr th {\n",
              "        vertical-align: top;\n",
              "    }\n",
              "\n",
              "    .dataframe thead th {\n",
              "        text-align: right;\n",
              "    }\n",
              "</style>\n",
              "<table border=\"1\" class=\"dataframe\">\n",
              "  <thead>\n",
              "    <tr style=\"text-align: right;\">\n",
              "      <th></th>\n",
              "      <th>Ad 1</th>\n",
              "      <th>Ad 2</th>\n",
              "      <th>Ad 3</th>\n",
              "      <th>Ad 4</th>\n",
              "      <th>Ad 5</th>\n",
              "      <th>Ad 6</th>\n",
              "      <th>Ad 7</th>\n",
              "      <th>Ad 8</th>\n",
              "      <th>Ad 9</th>\n",
              "      <th>Ad 10</th>\n",
              "    </tr>\n",
              "  </thead>\n",
              "  <tbody>\n",
              "    <tr>\n",
              "      <th>0</th>\n",
              "      <td>1</td>\n",
              "      <td>0</td>\n",
              "      <td>0</td>\n",
              "      <td>0</td>\n",
              "      <td>1</td>\n",
              "      <td>0</td>\n",
              "      <td>0</td>\n",
              "      <td>0</td>\n",
              "      <td>1</td>\n",
              "      <td>0</td>\n",
              "    </tr>\n",
              "    <tr>\n",
              "      <th>1</th>\n",
              "      <td>0</td>\n",
              "      <td>0</td>\n",
              "      <td>0</td>\n",
              "      <td>0</td>\n",
              "      <td>0</td>\n",
              "      <td>0</td>\n",
              "      <td>0</td>\n",
              "      <td>0</td>\n",
              "      <td>1</td>\n",
              "      <td>0</td>\n",
              "    </tr>\n",
              "    <tr>\n",
              "      <th>2</th>\n",
              "      <td>0</td>\n",
              "      <td>0</td>\n",
              "      <td>0</td>\n",
              "      <td>0</td>\n",
              "      <td>0</td>\n",
              "      <td>0</td>\n",
              "      <td>0</td>\n",
              "      <td>0</td>\n",
              "      <td>0</td>\n",
              "      <td>0</td>\n",
              "    </tr>\n",
              "    <tr>\n",
              "      <th>3</th>\n",
              "      <td>0</td>\n",
              "      <td>1</td>\n",
              "      <td>0</td>\n",
              "      <td>0</td>\n",
              "      <td>0</td>\n",
              "      <td>0</td>\n",
              "      <td>0</td>\n",
              "      <td>1</td>\n",
              "      <td>0</td>\n",
              "      <td>0</td>\n",
              "    </tr>\n",
              "    <tr>\n",
              "      <th>4</th>\n",
              "      <td>0</td>\n",
              "      <td>0</td>\n",
              "      <td>0</td>\n",
              "      <td>0</td>\n",
              "      <td>0</td>\n",
              "      <td>0</td>\n",
              "      <td>0</td>\n",
              "      <td>0</td>\n",
              "      <td>0</td>\n",
              "      <td>0</td>\n",
              "    </tr>\n",
              "  </tbody>\n",
              "</table>\n",
              "</div>"
            ],
            "text/plain": [
              "   Ad 1  Ad 2  Ad 3  Ad 4  Ad 5  Ad 6  Ad 7  Ad 8  Ad 9  Ad 10\n",
              "0     1     0     0     0     1     0     0     0     1      0\n",
              "1     0     0     0     0     0     0     0     0     1      0\n",
              "2     0     0     0     0     0     0     0     0     0      0\n",
              "3     0     1     0     0     0     0     0     1     0      0\n",
              "4     0     0     0     0     0     0     0     0     0      0"
            ]
          },
          "execution_count": 5,
          "metadata": {},
          "output_type": "execute_result"
        }
      ]
    },
    {
      "cell_type": "markdown",
      "metadata": {
        "id": "23508e73"
      },
      "source": [
        "## Implementing UCB"
      ],
      "id": "23508e73"
    },
    {
      "cell_type": "code",
      "metadata": {
        "id": "077e2422"
      },
      "source": [
        "N = 10000 # No. of rows\n",
        "d = 10 # No. of ads\n",
        "ads_selected = [] # list of selected ads"
      ],
      "id": "077e2422",
      "execution_count": null,
      "outputs": []
    },
    {
      "cell_type": "code",
      "metadata": {
        "id": "426fd27b"
      },
      "source": [
        "# list of selected elements\n",
        "number_of_selections = [0]*d"
      ],
      "id": "426fd27b",
      "execution_count": null,
      "outputs": []
    },
    {
      "cell_type": "code",
      "metadata": {
        "id": "82fc0486"
      },
      "source": [
        "# sum of Rewards\n",
        "sum_of_rewards = [0]*d\n",
        "total_reward = 0"
      ],
      "id": "82fc0486",
      "execution_count": null,
      "outputs": []
    },
    {
      "cell_type": "code",
      "metadata": {
        "id": "6f389666"
      },
      "source": [
        "for n in range(0,N):\n",
        "    ad = 0\n",
        "    max_upper_bound = 0\n",
        "    for i in range(0,d):\n",
        "        if(number_of_selections[i]>0):\n",
        "            average_reward = sum_of_rewards[i]/number_of_selections[i]\n",
        "            delta_i = math.sqrt(3/2*math.log(n+1)/number_of_selections[i])\n",
        "            upper_bound = average_reward + delta_i\n",
        "        else:\n",
        "            upper_bound = 1e400\n",
        "        if(upper_bound>max_upper_bound):\n",
        "            max_upper_bound = upper_bound\n",
        "            ad = i\n",
        "        ads_selected.append(ad)\n",
        "        number_of_selections[ad] += 1\n",
        "        reward = dataset.values[n,ad]\n",
        "        sum_of_rewards[ad] += reward"
      ],
      "id": "6f389666",
      "execution_count": null,
      "outputs": []
    },
    {
      "cell_type": "markdown",
      "metadata": {
        "id": "5d680f4f"
      },
      "source": [
        "## Visualising the Results"
      ],
      "id": "5d680f4f"
    },
    {
      "cell_type": "code",
      "metadata": {
        "id": "876678d0",
        "outputId": "1653c4cf-0eff-41ec-80df-91b39c129e37"
      },
      "source": [
        "plt.hist(ads_selected)\n",
        "plt.title(\"Histogram of Ads Selected\")\n",
        "plt.xlabel(\"Ads\")\n",
        "plt.ylabel(\"No. of times each Ad was selected\")"
      ],
      "id": "876678d0",
      "execution_count": null,
      "outputs": [
        {
          "data": {
            "text/plain": [
              "Text(0, 0.5, 'No. of times each Ad was selected')"
            ]
          },
          "execution_count": 10,
          "metadata": {},
          "output_type": "execute_result"
        },
        {
          "data": {
            "image/png": "[encoded data removed]",
            "text/plain": [
              "<Figure size 432x288 with 1 Axes>"
            ]
          },
          "metadata": {
            "needs_background": "light"
          },
          "output_type": "display_data"
        }
      ]
    },
    {
      "cell_type": "markdown",
      "metadata": {
        "id": "daeb7f19"
      },
      "source": [
        "# Method 2 - Using Thompson Sampling"
      ],
      "id": "daeb7f19"
    },
    {
      "cell_type": "markdown",
      "metadata": {
        "id": "2b964eff"
      },
      "source": [
        "Here, we will be using the Bayesian Inference."
      ],
      "id": "2b964eff"
    },
    {
      "cell_type": "markdown",
      "metadata": {
        "id": "227c0527"
      },
      "source": [
        "## Importing Libraries"
      ],
      "id": "227c0527"
    },
    {
      "cell_type": "code",
      "metadata": {
        "id": "ff481d12"
      },
      "source": [
        ""
      ],
      "id": "ff481d12",
      "execution_count": null,
      "outputs": []
    }
  ]
}